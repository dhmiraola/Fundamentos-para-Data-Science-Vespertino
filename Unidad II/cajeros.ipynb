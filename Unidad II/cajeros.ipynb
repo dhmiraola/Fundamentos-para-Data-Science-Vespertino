{
 "cells": [
  {
   "cell_type": "code",
   "execution_count": 1,
   "metadata": {},
   "outputs": [
    {
     "name": "stdout",
     "output_type": "stream",
     "text": [
      "Bienvenido al Menú del Banco Data Science\n",
      "\"Selecciona una opción\n",
      "    1) Girar Dinero\n",
      "    2) Consulta de Saldo\n",
      "    3) Salir\n",
      "1\n",
      "Ingrese el monto que desea retirar: 20000\n",
      "Retire su dinero, su saldo es,  30000\n",
      "\"Selecciona una opción\n",
      "    1) Girar Dinero\n",
      "    2) Consulta de Saldo\n",
      "    3) Salir\n",
      "3\n",
      "Retire su tarjeta\n"
     ]
    }
   ],
   "source": [
    "saldo = int(50000)\n",
    "\n",
    "print(\"Bienvenido al Menú del Banco Data Science\")\n",
    "while(True):\n",
    "    print(\"\"\"\"Selecciona una opción\n",
    "    1) Girar Dinero\n",
    "    2) Consulta de Saldo\n",
    "    3) Salir\"\"\")\n",
    "    \n",
    "    opcion = input()\n",
    "    if opcion == \"1\":\n",
    "        giro = int(input(\"Ingrese el monto que desea retirar: \"))\n",
    "        if giro>100000:\n",
    "            print(\"No se puede retirar montos superiores a $100.000\")\n",
    "            continue\n",
    "        elif giro % 5000 !=0:\n",
    "            print(\"Este cajero solo puede entregar multiplos de $5.000\")\n",
    "            continue\n",
    "        elif giro>saldo:\n",
    "             print(\"Monto insuficiente, por favor ingrese otro monto\")\n",
    "        print(\"Retire su dinero, su saldo es, \", saldo-giro)\n",
    "    elif opcion == \"2\":\n",
    "        print(\"Su saldo es: \",saldo)\n",
    "    elif opcion == \"3\":\n",
    "        print(\"Retire su tarjeta\")\n",
    "        break\n",
    "    else:\n",
    "        print(\"No se reconoce el comando, por favor introduzca un comando válido\")\n",
    "        continue"
   ]
  },
  {
   "cell_type": "code",
   "execution_count": null,
   "metadata": {},
   "outputs": [],
   "source": [
    "saldo = 100000\n",
    "\n",
    "print(\"Bienvenido al banco de science\")\n",
    "\n",
    "while(True):\n",
    "    print(\"\"\"Selecciona una opcion\n",
    "    1) Consulta saldo\n",
    "    2) Girar\n",
    "    3) Salir\"\"\")\n",
    "   \n",
    "    opcion = int(input())\n",
    "    if opcion == 1:\n",
    "        print(\"Su saldo es: \",saldo)\n",
    "    elif opcion == 2:\n",
    "        giro = int(input(\"Ingrese el monto: \"))\n",
    "        if giro > saldo:\n",
    "            print(\"Saldo insuficiente\")\n",
    "        elif giro <= saldo:\n",
    "            print(\"Retire su dinero, su saldo es: \",saldo-giro)\n",
    "    elif opcion == 3:\n",
    "        print(\"Retire su tarjeta\")\n",
    "        break\n",
    "    else:\n",
    "        (\"Introduce un comando valido\")\n",
    "        continue"
   ]
  }
 ],
 "metadata": {
  "kernelspec": {
   "display_name": "Python 3",
   "language": "python",
   "name": "python3"
  },
  "language_info": {
   "codemirror_mode": {
    "name": "ipython",
    "version": 3
   },
   "file_extension": ".py",
   "mimetype": "text/x-python",
   "name": "python",
   "nbconvert_exporter": "python",
   "pygments_lexer": "ipython3",
   "version": "3.8.5"
  }
 },
 "nbformat": 4,
 "nbformat_minor": 4
}
