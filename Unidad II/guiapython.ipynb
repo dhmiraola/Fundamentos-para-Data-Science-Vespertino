{
 "cells": [
  {
   "attachments": {
    "CFT-Los-R%C3%ADos.png": {
     "image/png": "[encoded data removed]"
    }
   },
   "cell_type": "markdown",
   "metadata": {},
   "source": [
    "![CFT-Los-R%C3%ADos.png](attachment:CFT-Los-R%C3%ADos.png)\n",
    "\n",
    "# Guía de programación básica en Python\n",
    "\n",
    "## Curso: Fundamentos para Data Science Vespertino\n",
    "## Profesor: Diego Miranda Olavarría\n",
    "\n",
    "* Esta guía contiene operaciones básicas que se pueden realizar en lenguaje de programación Python"
   ]
  },
  {
   "cell_type": "markdown",
   "metadata": {},
   "source": [
    "# Operaciones básicas"
   ]
  },
  {
   "cell_type": "markdown",
   "metadata": {},
   "source": [
    "### Este es un markdown, sirve pra escribir, por ejemplo títulos\n",
    "### \" Este es el título\""
   ]
  },
  {
   "cell_type": "code",
   "execution_count": 1,
   "metadata": {},
   "outputs": [],
   "source": [
    "# este símbolo sirve para dejar comentarios"
   ]
  },
  {
   "cell_type": "markdown",
   "metadata": {},
   "source": [
    "### Operaciones matemáticas"
   ]
  },
  {
   "cell_type": "code",
   "execution_count": 47,
   "metadata": {},
   "outputs": [
    {
     "data": {
      "text/plain": [
       "8"
      ]
     },
     "execution_count": 47,
     "metadata": {},
     "output_type": "execute_result"
    }
   ],
   "source": [
    "# suma de dos o más números\n",
    "3+2+3"
   ]
  },
  {
   "cell_type": "code",
   "execution_count": 48,
   "metadata": {},
   "outputs": [
    {
     "data": {
      "text/plain": [
       "3"
      ]
     },
     "execution_count": 48,
     "metadata": {},
     "output_type": "execute_result"
    }
   ],
   "source": [
    "# resta de dos o más números\n",
    "8-2-3"
   ]
  },
  {
   "cell_type": "code",
   "execution_count": 4,
   "metadata": {},
   "outputs": [
    {
     "data": {
      "text/plain": [
       "18"
      ]
     },
     "execution_count": 4,
     "metadata": {},
     "output_type": "execute_result"
    }
   ],
   "source": [
    "# Mulpiplicación\n",
    "3*3*2"
   ]
  },
  {
   "cell_type": "code",
   "execution_count": 5,
   "metadata": {},
   "outputs": [
    {
     "data": {
      "text/plain": [
       "1.5"
      ]
     },
     "execution_count": 5,
     "metadata": {},
     "output_type": "execute_result"
    }
   ],
   "source": [
    "# División\n",
    "3/2/1"
   ]
  },
  {
   "cell_type": "code",
   "execution_count": 46,
   "metadata": {},
   "outputs": [
    {
     "data": {
      "text/plain": [
       "9"
      ]
     },
     "execution_count": 46,
     "metadata": {},
     "output_type": "execute_result"
    }
   ],
   "source": [
    "# Potencia\n",
    "3**2"
   ]
  },
  {
   "cell_type": "code",
   "execution_count": 3,
   "metadata": {},
   "outputs": [
    {
     "data": {
      "text/plain": [
       "27"
      ]
     },
     "execution_count": 3,
     "metadata": {},
     "output_type": "execute_result"
    }
   ],
   "source": [
    "3**3"
   ]
  },
  {
   "cell_type": "code",
   "execution_count": 7,
   "metadata": {},
   "outputs": [
    {
     "data": {
      "text/plain": [
       "41"
      ]
     },
     "execution_count": 7,
     "metadata": {},
     "output_type": "execute_result"
    }
   ],
   "source": [
    "# Operacion compleja <----- tener en cuenta que la mutiplicación tiene prioridad antes que la suma o la resta\n",
    "3-2+4*10"
   ]
  },
  {
   "cell_type": "code",
   "execution_count": 4,
   "metadata": {},
   "outputs": [
    {
     "data": {
      "text/plain": [
       "50"
      ]
     },
     "execution_count": 4,
     "metadata": {},
     "output_type": "execute_result"
    }
   ],
   "source": [
    "(3-2+4)*10"
   ]
  },
  {
   "cell_type": "code",
   "execution_count": 8,
   "metadata": {},
   "outputs": [
    {
     "data": {
      "text/plain": [
       "3"
      ]
     },
     "execution_count": 8,
     "metadata": {},
     "output_type": "execute_result"
    }
   ],
   "source": [
    "# Asignación de un valor a una variable\n",
    "n = 3\n",
    "n"
   ]
  },
  {
   "cell_type": "code",
   "execution_count": 9,
   "metadata": {},
   "outputs": [
    {
     "data": {
      "text/plain": [
       "6"
      ]
     },
     "execution_count": 9,
     "metadata": {},
     "output_type": "execute_result"
    }
   ],
   "source": [
    "n+3"
   ]
  },
  {
   "cell_type": "code",
   "execution_count": 10,
   "metadata": {},
   "outputs": [
    {
     "data": {
      "text/plain": [
       "13"
      ]
     },
     "execution_count": 10,
     "metadata": {},
     "output_type": "execute_result"
    }
   ],
   "source": [
    "n = 3\n",
    "m = 10\n",
    "n+m"
   ]
  },
  {
   "cell_type": "code",
   "execution_count": 11,
   "metadata": {},
   "outputs": [
    {
     "data": {
      "text/plain": [
       "6.0"
      ]
     },
     "execution_count": 11,
     "metadata": {},
     "output_type": "execute_result"
    }
   ],
   "source": [
    "nota1 = 5\n",
    "nota2 = 7\n",
    "nota_final = (nota1+nota2)/2\n",
    "nota_final"
   ]
  },
  {
   "cell_type": "code",
   "execution_count": 2,
   "metadata": {},
   "outputs": [
    {
     "name": "stdout",
     "output_type": "stream",
     "text": [
      "su promedio final es:  4.333333333333333\n"
     ]
    }
   ],
   "source": [
    "nota1 = 5\n",
    "nota2 = 7\n",
    "nota3 = 1\n",
    "nota_final = (nota1+nota2+nota3)/3\n",
    "print(\"su promedio final es: \", nota_final)"
   ]
  },
  {
   "cell_type": "markdown",
   "metadata": {},
   "source": [
    "### Textos"
   ]
  },
  {
   "cell_type": "code",
   "execution_count": 12,
   "metadata": {},
   "outputs": [
    {
     "data": {
      "text/plain": [
       "'hola mundo'"
      ]
     },
     "execution_count": 12,
     "metadata": {},
     "output_type": "execute_result"
    }
   ],
   "source": [
    "\"hola mundo\""
   ]
  },
  {
   "cell_type": "code",
   "execution_count": 13,
   "metadata": {},
   "outputs": [
    {
     "data": {
      "text/plain": [
       "'hola mundo'"
      ]
     },
     "execution_count": 13,
     "metadata": {},
     "output_type": "execute_result"
    }
   ],
   "source": [
    "'hola mundo'"
   ]
  },
  {
   "cell_type": "code",
   "execution_count": 14,
   "metadata": {},
   "outputs": [
    {
     "data": {
      "text/plain": [
       "'se puede incluir \" \"'"
      ]
     },
     "execution_count": 14,
     "metadata": {},
     "output_type": "execute_result"
    }
   ],
   "source": [
    "'se puede incluir \" \"'"
   ]
  },
  {
   "cell_type": "code",
   "execution_count": 15,
   "metadata": {},
   "outputs": [
    {
     "data": {
      "text/plain": [
       "'holamundo'"
      ]
     },
     "execution_count": 15,
     "metadata": {},
     "output_type": "execute_result"
    }
   ],
   "source": [
    "n = \"hola\"\n",
    "m = \"mundo\"\n",
    "n+m"
   ]
  },
  {
   "cell_type": "code",
   "execution_count": 16,
   "metadata": {},
   "outputs": [
    {
     "data": {
      "text/plain": [
       "'hola a todos'"
      ]
     },
     "execution_count": 16,
     "metadata": {},
     "output_type": "execute_result"
    }
   ],
   "source": [
    "\"hola mundo\"\n",
    "\"hola gente\"\n",
    "\"hola a todos\""
   ]
  },
  {
   "cell_type": "code",
   "execution_count": 17,
   "metadata": {},
   "outputs": [
    {
     "name": "stdout",
     "output_type": "stream",
     "text": [
      "hola mundo\n",
      "hola gente\n",
      "hola a todos\n"
     ]
    }
   ],
   "source": [
    "print(\"hola mundo\")\n",
    "print(\"hola gente\")\n",
    "print(\"hola a todos\")"
   ]
  },
  {
   "cell_type": "markdown",
   "metadata": {},
   "source": [
    "### Listas"
   ]
  },
  {
   "cell_type": "code",
   "execution_count": null,
   "metadata": {},
   "outputs": [],
   "source": []
  },
  {
   "cell_type": "code",
   "execution_count": 18,
   "metadata": {},
   "outputs": [
    {
     "data": {
      "text/plain": [
       "[1, 2, 3, 4]"
      ]
     },
     "execution_count": 18,
     "metadata": {},
     "output_type": "execute_result"
    }
   ],
   "source": [
    "numeros = [1,2,3,4] # Las listas se crean con []\n",
    "numeros"
   ]
  },
  {
   "cell_type": "code",
   "execution_count": 5,
   "metadata": {},
   "outputs": [
    {
     "name": "stdout",
     "output_type": "stream",
     "text": [
      "Los datos de la lista son:  [4, 'hola mundo', -15, 3.14, 'hola gente']\n"
     ]
    }
   ],
   "source": [
    "datos = [4,\"hola mundo\", -15, 3.14, \"hola gente\"]\n",
    "print(\"Los datos de la lista son: \",datos)"
   ]
  },
  {
   "cell_type": "code",
   "execution_count": 20,
   "metadata": {},
   "outputs": [
    {
     "data": {
      "text/plain": [
       "[4, 'hola mundo', -15, 3.14, 'hola gente', 'hola']"
      ]
     },
     "execution_count": 20,
     "metadata": {},
     "output_type": "execute_result"
    }
   ],
   "source": [
    "datos.append(\"hola\") # El comando .append agrega una variable nueva al final de la lista\n",
    "datos"
   ]
  },
  {
   "cell_type": "code",
   "execution_count": null,
   "metadata": {},
   "outputs": [],
   "source": []
  },
  {
   "cell_type": "markdown",
   "metadata": {},
   "source": [
    "### Lectura por teclado"
   ]
  },
  {
   "cell_type": "code",
   "execution_count": 50,
   "metadata": {},
   "outputs": [
    {
     "name": "stdout",
     "output_type": "stream",
     "text": [
      "Introduce un valor: 10\n"
     ]
    }
   ],
   "source": [
    "valor = input(\"Introduce un valor: \")"
   ]
  },
  {
   "cell_type": "code",
   "execution_count": 3,
   "metadata": {},
   "outputs": [
    {
     "name": "stdout",
     "output_type": "stream",
     "text": [
      "Introduce un número entero: 8\n"
     ]
    }
   ],
   "source": [
    "valor1 = int(input(\"Introduce un número entero: \"))"
   ]
  },
  {
   "cell_type": "code",
   "execution_count": 5,
   "metadata": {},
   "outputs": [
    {
     "name": "stdout",
     "output_type": "stream",
     "text": [
      "Introduce un número flotante: 8.6\n"
     ]
    }
   ],
   "source": [
    "valor2 = float(input(\"Introduce un número flotante: \"))"
   ]
  },
  {
   "cell_type": "markdown",
   "metadata": {},
   "source": [
    "### A continuación crearemos un programa que calcule la edad:"
   ]
  },
  {
   "cell_type": "code",
   "execution_count": 22,
   "metadata": {},
   "outputs": [
    {
     "name": "stdout",
     "output_type": "stream",
     "text": [
      "Ingrese Nombre: diego\n",
      "Ingrese año de nacimiento: 1987\n",
      "Ingrese año actual: 2023\n",
      "hola diego usted tiene 36 años\n"
     ]
    }
   ],
   "source": [
    "nombre = input(\"Ingrese Nombre: \")\n",
    "año_nacimiento = int(input(\"Ingrese año de nacimiento: \"))\n",
    "año_actual = int(input(\"Ingrese año actual: \"))\n",
    "edad = año_actual-año_nacimiento\n",
    "print(\"hola\",nombre, \"usted tiene\", edad, \"años\")"
   ]
  },
  {
   "cell_type": "code",
   "execution_count": null,
   "metadata": {},
   "outputs": [],
   "source": []
  },
  {
   "cell_type": "markdown",
   "metadata": {},
   "source": [
    "### Ingresar 4 datos numéricos en una Lista "
   ]
  },
  {
   "cell_type": "code",
   "execution_count": 51,
   "metadata": {},
   "outputs": [
    {
     "name": "stdout",
     "output_type": "stream",
     "text": [
      "Ingrese un número: \n",
      "6\n",
      "Ingrese un segundo número: \n",
      "5\n",
      "Ingrese un tercer número: \n",
      "4\n",
      "Ingrese un cuarto número: \n",
      "3\n",
      "['6', '5', '4', '3'] Las listas pueden ser modificadas\n"
     ]
    }
   ],
   "source": [
    "print(\"Ingrese un número: \")\n",
    "a=input()\n",
    "print(\"Ingrese un segundo número: \")\n",
    "b=input()\n",
    "print(\"Ingrese un tercer número: \")\n",
    "c=input()\n",
    "print(\"Ingrese un cuarto número: \")\n",
    "d=input()\n",
    "e=[a,b,c,d]\n",
    "print(e,\"Las listas pueden ser modificadas\")"
   ]
  },
  {
   "cell_type": "code",
   "execution_count": 52,
   "metadata": {},
   "outputs": [
    {
     "name": "stdout",
     "output_type": "stream",
     "text": [
      "['3', '4', '5', '6']\n"
     ]
    }
   ],
   "source": [
    "e.sort()\n",
    "print(e)"
   ]
  },
  {
   "cell_type": "code",
   "execution_count": 25,
   "metadata": {},
   "outputs": [
    {
     "name": "stdout",
     "output_type": "stream",
     "text": [
      "['8', '8', '6', '']\n"
     ]
    }
   ],
   "source": [
    "e.reverse()\n",
    "print(e)"
   ]
  },
  {
   "cell_type": "markdown",
   "metadata": {},
   "source": [
    "### Diccionarios"
   ]
  },
  {
   "cell_type": "code",
   "execution_count": 26,
   "metadata": {},
   "outputs": [],
   "source": [
    "diccionario = {\"azul\": \"blue\", \"naranjo\":\"orange\", \"yellow\": \"amarillo\"} # se ingresa clave y valor y llevan llaves {}"
   ]
  },
  {
   "cell_type": "code",
   "execution_count": 27,
   "metadata": {},
   "outputs": [
    {
     "name": "stdout",
     "output_type": "stream",
     "text": [
      "blue\n"
     ]
    }
   ],
   "source": [
    "print(diccionario[\"azul\"])"
   ]
  },
  {
   "cell_type": "code",
   "execution_count": 28,
   "metadata": {},
   "outputs": [],
   "source": [
    "diccionario2 = {\"cristiano\":\"Portugal\", \"Messi\":\"Argentina\", \"alexis\":\"Chile\", \"Neymar\":\"Brasil\"}"
   ]
  },
  {
   "cell_type": "code",
   "execution_count": 29,
   "metadata": {},
   "outputs": [
    {
     "name": "stdout",
     "output_type": "stream",
     "text": [
      "Chile\n"
     ]
    }
   ],
   "source": [
    "print(diccionario2[\"alexis\"])"
   ]
  },
  {
   "cell_type": "markdown",
   "metadata": {},
   "source": [
    "#### Ejercicio de Diccionario: Cree un diccionario cuya clave sea nombre y el valor sea la edad. Cree 4 y consulte la edad de uno de los nombres."
   ]
  },
  {
   "cell_type": "code",
   "execution_count": 30,
   "metadata": {},
   "outputs": [],
   "source": [
    "ejercicio = {\"diego\": 36, \"maria\":20, \"juan\": 50, \"pedro\": 70}"
   ]
  },
  {
   "cell_type": "code",
   "execution_count": 31,
   "metadata": {},
   "outputs": [
    {
     "name": "stdout",
     "output_type": "stream",
     "text": [
      "36\n"
     ]
    }
   ],
   "source": [
    "print(ejercicio[\"diego\"])"
   ]
  },
  {
   "cell_type": "markdown",
   "metadata": {},
   "source": [
    "### If"
   ]
  },
  {
   "cell_type": "markdown",
   "metadata": {},
   "source": [
    "#### El if es una sentencia condicional, este permite condicionar el flujo de un programa en diferentes caminos. Es como darle al computador la capacidad de distinguir varias opciones para actuar de forma distinta"
   ]
  },
  {
   "cell_type": "code",
   "execution_count": 9,
   "metadata": {},
   "outputs": [
    {
     "name": "stdout",
     "output_type": "stream",
     "text": [
      "se cumple la condición\n",
      "También se muestra este print\n"
     ]
    }
   ],
   "source": [
    "if True: # Los 2 puntos significa que esta \"indentado\", es decir que está dentro de la condición\n",
    "    print(\"se cumple la condición\")\n",
    "    print(\"También se muestra este print\")"
   ]
  },
  {
   "cell_type": "code",
   "execution_count": 11,
   "metadata": {},
   "outputs": [],
   "source": [
    "# Intenta hacer un if cambiando el True a False y comprueba\n",
    "if False: \n",
    "    print(\"se cumple la condición\")\n",
    "    print(\"También se muestra este print\")"
   ]
  },
  {
   "cell_type": "code",
   "execution_count": 15,
   "metadata": {},
   "outputs": [
    {
     "name": "stdout",
     "output_type": "stream",
     "text": [
      "a vale 10\n"
     ]
    }
   ],
   "source": [
    "a = 10\n",
    "\n",
    "if a == 2: # Se coloca con 2 signos igual\n",
    "    print(\"a vale 2\")\n",
    "if a == 10:\n",
    "    print(\"a vale 10\") \n",
    "\n",
    "# El resultado solo reconocerá el segundo ya que es el que cumple la condición"
   ]
  },
  {
   "cell_type": "code",
   "execution_count": 13,
   "metadata": {},
   "outputs": [
    {
     "name": "stdout",
     "output_type": "stream",
     "text": [
      "a vale 5\n",
      "y b vale 10\n"
     ]
    }
   ],
   "source": [
    "a = 5\n",
    "b = 10\n",
    "\n",
    "if a == 5:\n",
    "    print(\"a vale\", a)\n",
    "if b == 10:\n",
    "        print(\"y b vale\",b)\n",
    "\n"
   ]
  },
  {
   "cell_type": "code",
   "execution_count": 18,
   "metadata": {},
   "outputs": [
    {
     "name": "stdout",
     "output_type": "stream",
     "text": [
      "n vale 0\n"
     ]
    }
   ],
   "source": [
    "n = 0\n",
    "\n",
    "if n == 0:\n",
    "    print(\"n vale 0\")\n",
    "else:\n",
    "    print(\"n vale\", n)\n",
    "    \n",
    "# La sentencia else (sino) se encadena a un if para indicar el caso contrario cuando NO se cumple la condición"
   ]
  },
  {
   "cell_type": "code",
   "execution_count": 20,
   "metadata": {},
   "outputs": [
    {
     "name": "stdout",
     "output_type": "stream",
     "text": [
      "Introduce un número: 5\n",
      "n vale 5\n"
     ]
    }
   ],
   "source": [
    "n = float(input(\"Introduce un número: \"))\n",
    "\n",
    "if n == 0:\n",
    "    print(\"n vale 0\")\n",
    "elif n >= 5:\n",
    "    print(\"n vale 5\")\n",
    "elif n >=  7:\n",
    "    print(\"n vale 7\")\n",
    "else:\n",
    "    print(\"n vale \",n)\n",
    "\n",
    "# la sentencia elif muestra por pantalla la condición que cumple n"
   ]
  },
  {
   "cell_type": "code",
   "execution_count": 21,
   "metadata": {},
   "outputs": [
    {
     "name": "stdout",
     "output_type": "stream",
     "text": [
      "Introduce un número: 5\n",
      "n vale 5\n",
      "n vale  5.0\n"
     ]
    }
   ],
   "source": [
    "n = float(input(\"Introduce un número: \"))\n",
    "\n",
    "if n == 0:\n",
    "    print(\"n vale 0\")\n",
    "if n == 5:\n",
    "    print(\"n vale 5\")\n",
    "if n == 7:\n",
    "    print(\"n vale 7\")\n",
    "else:\n",
    "    print(\"n vale \",n)\n",
    "\n",
    "# La sentencia if hace que muestre por pantalla todas las condiciones que cumple n"
   ]
  },
  {
   "cell_type": "markdown",
   "metadata": {},
   "source": [
    "#### Ejercicio: Crear un programa en donde el menú tenga las siguientes opciones: ENTRAR, SALUDAR, SALIR"
   ]
  },
  {
   "cell_type": "code",
   "execution_count": 25,
   "metadata": {},
   "outputs": [
    {
     "name": "stdout",
     "output_type": "stream",
     "text": [
      "hola\n",
      "Este comando no se reconoce\n"
     ]
    }
   ],
   "source": [
    "comando = input()\n",
    "if comando == \"ENTRAR\":\n",
    "    print(\"Bienvenido al sistema\")\n",
    "elif comando == \"SALUDAR\":\n",
    "    print(\"Hola, como lo estás pasando?\")\n",
    "elif comando == \"SALIR\":\n",
    "    print(\"Saliendo del sistema\")\n",
    "else:\n",
    "    print(\"Este comando no se reconoce\")"
   ]
  },
  {
   "cell_type": "code",
   "execution_count": 26,
   "metadata": {},
   "outputs": [
    {
     "name": "stdout",
     "output_type": "stream",
     "text": [
      "Introduce una nota: 6\n",
      "Notable\n"
     ]
    }
   ],
   "source": [
    "nota = float(input(\"Introduce una nota: \"))\n",
    "\n",
    "if nota >= 6:\n",
    "    print(\"Notable\")\n",
    "elif nota >= 5:\n",
    "    print(\"Aprobado\")\n",
    "else:\n",
    "    print(\"Reprobado\")"
   ]
  },
  {
   "cell_type": "code",
   "execution_count": 29,
   "metadata": {},
   "outputs": [
    {
     "name": "stdout",
     "output_type": "stream",
     "text": [
      "Introduce una nota: 6\n",
      "Nota Máxima\n",
      "Aprobado\n"
     ]
    }
   ],
   "source": [
    "nota = float(input(\"Introduce una nota: \"))\n",
    "\n",
    "if nota >= 6:\n",
    "    print(\"Nota Máxima\")\n",
    "if nota >= 5:\n",
    "    print(\"Aprobado\")\n",
    "else:\n",
    "    print(\"Reprobado\")"
   ]
  },
  {
   "cell_type": "markdown",
   "metadata": {},
   "source": [
    "#### Ejercicio de If: Cree un programa en donde usted pueda introducir una nota y de salida que me diga si la nota es sobresaliente, bien, regular o reprobado"
   ]
  },
  {
   "cell_type": "code",
   "execution_count": 44,
   "metadata": {},
   "outputs": [
    {
     "name": "stdout",
     "output_type": "stream",
     "text": [
      "Introduce una nota: 6\n",
      "Sobresaliente\n"
     ]
    }
   ],
   "source": [
    "nota = float(input(\"Introduce una nota: \"))\n",
    "if nota >= 6:\n",
    "    print(\"Sobresaliente\")\n",
    "elif nota >= 5:\n",
    "    print(\"Bien\")\n",
    "elif nota >= 4:\n",
    "    print(\"regular\")\n",
    "else:\n",
    "    print(\"Reprobado\")"
   ]
  },
  {
   "cell_type": "markdown",
   "metadata": {},
   "source": [
    "### Bucle While"
   ]
  },
  {
   "cell_type": "markdown",
   "metadata": {},
   "source": [
    "#### Bucle o Iterar: Es realizar una acción varias veces\n",
    "#### Ejemplo práctico: imagine que tiene una base de datos con un montón de registros y necesita encontrar uno en especial para consultarlo, para encontrar el elemento el computador debe recorrer entre todos los registros de la base de datos y compararlos hasta encontrar el que se busca\n",
    "\n",
    "#### La clave del while es que a partir de una expresión relacional o lógica, de la misma forma que trabaja la sentencia if es capax de repetir un bloque de instrucciones siempre que este devuelva True, nosotros tenemos que encargarnos de cambiar esta condición a False para salir de la iteración o del bucle, sino estaríamos en un bucle infinito"
   ]
  },
  {
   "cell_type": "code",
   "execution_count": 33,
   "metadata": {},
   "outputs": [
    {
     "name": "stdout",
     "output_type": "stream",
     "text": [
      "c vale  1\n",
      "c vale  2\n",
      "c vale  3\n",
      "c vale  4\n",
      "c vale  5\n",
      "c vale  6\n"
     ]
    }
   ],
   "source": [
    "c = 0\n",
    "\n",
    "while c <=5:\n",
    "    c+=1\n",
    "    print(\"c vale \",c)\n",
    "    \n",
    "# Le estamos pidiendo al bucle while que mientras la c sea mas pequeña que 5, esta me incremente el valor de c en 1"
   ]
  },
  {
   "cell_type": "code",
   "execution_count": 53,
   "metadata": {},
   "outputs": [
    {
     "name": "stdout",
     "output_type": "stream",
     "text": [
      "c vale  1\n",
      "c vale  2\n",
      "c vale  3\n",
      "c vale  4\n",
      "c vale  5\n",
      "c vale  6\n",
      "Se ha completado toda la iteración y c vale  6\n"
     ]
    }
   ],
   "source": [
    "c = 0\n",
    "\n",
    "while c <=5:\n",
    "    c+=1\n",
    "    print(\"c vale \",c)\n",
    "else:\n",
    "    print(\"Se ha completado toda la iteración y c vale \",c)\n",
    "    \n",
    "# se puede utilizar un else que se cumplirá una vez cuando la condición no se cumpla"
   ]
  },
  {
   "cell_type": "code",
   "execution_count": 44,
   "metadata": {},
   "outputs": [
    {
     "name": "stdout",
     "output_type": "stream",
     "text": [
      "c vale 1\n",
      "c vale 2\n",
      "c vale 3\n",
      "Rompemos el bucle cuando c vale 4\n"
     ]
    }
   ],
   "source": [
    "# Sentencia break\n",
    "\n",
    "c = 0\n",
    "while c <= 5:\n",
    "    c+=1\n",
    "    if (c==4):\n",
    "        print(\"Rompemos el bucle cuando c vale\", c)\n",
    "        break\n",
    "    print(\"c vale\",c)\n",
    "else:\n",
    "    print(\"Se ha completado toda la iteración y c vale\", c)"
   ]
  },
  {
   "cell_type": "markdown",
   "metadata": {},
   "source": [
    "#### Ejercicio: Cree un menú interactivo que tenga 3 instrucciones ENTRAR, SALIR y COMANDO DESCONOCIDO"
   ]
  },
  {
   "cell_type": "code",
   "execution_count": 37,
   "metadata": {},
   "outputs": [
    {
     "name": "stdout",
     "output_type": "stream",
     "text": [
      "Bienvenido\n",
      "Elige una opción: \n",
      "    1) Entrar\n",
      "    2) Salir\n",
      "1\n",
      "Entrando al sistema\n",
      "Elige una opción: \n",
      "    1) Entrar\n",
      "    2) Salir\n",
      "3\n",
      "Comando desconocido\n",
      "Elige una opción: \n",
      "    1) Entrar\n",
      "    2) Salir\n",
      "2\n",
      "Saliendo del sistema\n"
     ]
    }
   ],
   "source": [
    "print(\"Bienvenido\")\n",
    "while(True):\n",
    "    print(\"\"\"Elige una opción: \n",
    "    1) Entrar\n",
    "    2) Salir\"\"\")\n",
    "    opcion = input()\n",
    "    if opcion == \"1\":\n",
    "        print(\"Entrando al sistema\")\n",
    "    elif opcion == \"2\":\n",
    "        print(\"Saliendo del sistema\")\n",
    "        break\n",
    "    else:\n",
    "        print(\"Comando desconocido\")\n"
   ]
  },
  {
   "cell_type": "markdown",
   "metadata": {},
   "source": [
    "#### Ejercicio: Cree un menú interactivo que SALUDE, SUME 2 NÚMEROS y SALIR "
   ]
  },
  {
   "cell_type": "code",
   "execution_count": 41,
   "metadata": {},
   "outputs": [
    {
     "name": "stdout",
     "output_type": "stream",
     "text": [
      "Bienvenido al menú interactivo\n",
      "¿Qué quieres hacer? Escribe una opción\n",
      "    1) Saludar\n",
      "    2) Sumar dos números\n",
      "    3) Salir\n",
      "2\n",
      "Introduce el primer número: 3\n",
      "Introduce el segundo número: 4\n",
      "El resultado de la suma es:  7.0\n",
      "¿Qué quieres hacer? Escribe una opción\n",
      "    1) Saludar\n",
      "    2) Sumar dos números\n",
      "    3) Salir\n",
      "3\n",
      "¡Hasta luego! Ha sido un placer ayudarte\n"
     ]
    }
   ],
   "source": [
    "print(\"Bienvenido al menú interactivo\")\n",
    "while(True):\n",
    "    print(\"\"\"¿Qué quieres hacer? Escribe una opción\n",
    "    1) Saludar\n",
    "    2) Sumar dos números\n",
    "    3) Salir\"\"\")\n",
    "    opcion = input()\n",
    "    if opcion == '1':\n",
    "        print(\"Hola, espero que te lo estés pasando bien\")\n",
    "    elif opcion == '2':\n",
    "        n1 = float(input(\"Introduce el primer número: \"))\n",
    "        n2 = float(input(\"Introduce el segundo número: \"))\n",
    "        print(\"El resultado de la suma es: \",n1+n2)\n",
    "    elif opcion =='3':\n",
    "        print(\"¡Hasta luego! Ha sido un placer ayudarte\")\n",
    "        break\n",
    "    else:\n",
    "        print(\"Comando desconocido, vuelve a intentarlo\")\n",
    "        "
   ]
  },
  {
   "cell_type": "markdown",
   "metadata": {},
   "source": [
    "### Bucle for"
   ]
  },
  {
   "cell_type": "code",
   "execution_count": 6,
   "metadata": {},
   "outputs": [
    {
     "name": "stdout",
     "output_type": "stream",
     "text": [
      "el numero es:  0\n",
      "el numero es:  1\n",
      "el numero es:  2\n",
      "el numero es:  3\n",
      "el numero es:  4\n"
     ]
    }
   ],
   "source": [
    "for x in range(0,5):\n",
    "    print(\"el numero es: \",x)"
   ]
  },
  {
   "cell_type": "code",
   "execution_count": 7,
   "metadata": {},
   "outputs": [
    {
     "name": "stdout",
     "output_type": "stream",
     "text": [
      "h\n",
      "o\n",
      "l\n",
      "a\n"
     ]
    }
   ],
   "source": [
    "for x in \"hola\":\n",
    "    print(x)"
   ]
  },
  {
   "cell_type": "code",
   "execution_count": 1,
   "metadata": {},
   "outputs": [
    {
     "name": "stdout",
     "output_type": "stream",
     "text": [
      "1\n",
      "2\n",
      "3\n",
      "4\n",
      "5\n",
      "6\n",
      "7\n"
     ]
    }
   ],
   "source": [
    "numeros = [1,2,3,4,5,6,7]\n",
    "\n",
    "for numero in numeros:\n",
    "    print(numero)"
   ]
  },
  {
   "cell_type": "code",
   "execution_count": 7,
   "metadata": {},
   "outputs": [
    {
     "name": "stdout",
     "output_type": "stream",
     "text": [
      "H\n",
      "o\n",
      "l\n",
      "a\n",
      " \n",
      "m\n",
      "u\n",
      "n\n",
      "d\n",
      "o\n"
     ]
    }
   ],
   "source": [
    "cadena = \"Hola mundo\"\n",
    "\n",
    "for caracter in cadena:\n",
    "    print(caracter)"
   ]
  },
  {
   "cell_type": "markdown",
   "metadata": {},
   "source": [
    "### EJERCICIO FINAL: CREE UN CAJERO BANCARIO CON LO SIGUIENTE:\n",
    "### 1) Cree una variable con el saldo\n",
    "### 2) Cree un menú que ingrese al sistema\n",
    "### 3) Consulte el saldo disponible\n",
    "### 4) realice un giro, si el saldo es insuficiente cree alerta\n",
    "### 5) Salga del sistema"
   ]
  },
  {
   "cell_type": "code",
   "execution_count": 9,
   "metadata": {},
   "outputs": [],
   "source": []
  },
  {
   "cell_type": "code",
   "execution_count": null,
   "metadata": {},
   "outputs": [],
   "source": []
  },
  {
   "cell_type": "code",
   "execution_count": null,
   "metadata": {},
   "outputs": [],
   "source": []
  },
  {
   "cell_type": "code",
   "execution_count": null,
   "metadata": {},
   "outputs": [],
   "source": []
  }
 ],
 "metadata": {
  "kernelspec": {
   "display_name": "Python 3",
   "language": "python",
   "name": "python3"
  },
  "language_info": {
   "codemirror_mode": {
    "name": "ipython",
    "version": 3
   },
   "file_extension": ".py",
   "mimetype": "text/x-python",
   "name": "python",
   "nbconvert_exporter": "python",
   "pygments_lexer": "ipython3",
   "version": "3.8.5"
  }
 },
 "nbformat": 4,
 "nbformat_minor": 4
}
